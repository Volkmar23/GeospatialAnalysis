{
 "cells": [
  {
   "cell_type": "code",
   "execution_count": null,
   "id": "a5dcbe53-2c41-4c04-8c9f-d078fe89d242",
   "metadata": {
    "editable": true,
    "slideshow": {
     "slide_type": ""
    },
    "tags": []
   },
   "outputs": [],
   "source": [
    "{\n",
    "\"trusted\": true,\n",
    "\"editable\": false,\n",
    "\"deletable\": false\n",
    "}\n",
    "\n",
    "own_computer = r\"C:\\Users\\Usuario\"\n",
    "isa_computer = r\"D:\\OneDrive\"\n",
    "\n",
    "\n",
    "path_global_functions =r\"C:\\Users\\Usuario\\OneDrive - INTERCONEXION ELECTRICA S.A. E.S.P\\01_CC_DOC\\Python Code\\03_Escalamiento\\Articulador\\01_FuncionesGlobales\"\n",
    "\n",
    "## We are making the reference to the global function instead of ahving multiple function scatter all around the code.\n",
    "os.chdir(path_global_functions)\n",
    "\n",
    "from tools import raw_assets\n",
    "from tools_gdal import get_index_pix, slice_for_country\n"
   ]
  },
  {
   "cell_type": "code",
   "execution_count": 1,
   "id": "75d5b8df-b93b-4555-a1ac-929ab20d7ff0",
   "metadata": {},
   "outputs": [
    {
     "data": {
      "text/plain": [
       "['C:\\\\Users\\\\ISA4452\\\\.conda\\\\envs\\\\geoscience\\\\python310.zip',\n",
       " 'C:\\\\Users\\\\ISA4452\\\\.conda\\\\envs\\\\geoscience\\\\DLLs',\n",
       " 'C:\\\\Users\\\\ISA4452\\\\.conda\\\\envs\\\\geoscience\\\\lib',\n",
       " 'C:\\\\Users\\\\ISA4452\\\\.conda\\\\envs\\\\geoscience',\n",
       " '',\n",
       " 'C:\\\\Users\\\\ISA4452\\\\.conda\\\\envs\\\\geoscience\\\\lib\\\\site-packages',\n",
       " 'C:\\\\Users\\\\ISA4452\\\\.conda\\\\envs\\\\geoscience\\\\lib\\\\site-packages\\\\win32',\n",
       " 'C:\\\\Users\\\\ISA4452\\\\.conda\\\\envs\\\\geoscience\\\\lib\\\\site-packages\\\\win32\\\\lib',\n",
       " 'C:\\\\Users\\\\ISA4452\\\\.conda\\\\envs\\\\geoscience\\\\lib\\\\site-packages\\\\Pythonwin']"
      ]
     },
     "execution_count": 1,
     "metadata": {},
     "output_type": "execute_result"
    }
   ],
   "source": [
    "sys.path"
   ]
  },
  {
   "cell_type": "code",
   "execution_count": null,
   "id": "1e8de5df-d132-409d-a1f4-763e7e7844fc",
   "metadata": {
    "editable": true,
    "slideshow": {
     "slide_type": ""
    },
    "tags": []
   },
   "outputs": [],
   "source": [
    "C:\\Users\\Usuario\n",
    "D:\\OneDrive"
   ]
  },
  {
   "cell_type": "code",
   "execution_count": null,
   "id": "71584544-8308-4fc6-8b29-4a2455aea998",
   "metadata": {},
   "outputs": [],
   "source": []
  },
  {
   "cell_type": "code",
   "execution_count": null,
   "id": "13c8bc13-73f9-4711-85c4-ae420ddc03eb",
   "metadata": {
    "editable": true,
    "slideshow": {
     "slide_type": ""
    },
    "tags": []
   },
   "outputs": [],
   "source": [
    "# Define paths\n",
    "path_tools = r\"C:\\Users\\Usuario\\OneDrive - INTERCONEXION ELECTRICA S.A. E.S.P\\01_CC_DOC\\src\\utils\"\n",
    "\n",
    "# Add paths to sys.path if not already present\n",
    "if path_tools not in sys.path:\n",
    "    sys.path.append(path_tools)\n",
    "\n",
    "# Import your modules\n",
    "import tools"
   ]
  },
  {
   "cell_type": "code",
   "execution_count": null,
   "id": "2eb383e2-392d-48a4-a031-e25126d248f1",
   "metadata": {},
   "outputs": [],
   "source": []
  },
  {
   "cell_type": "code",
   "execution_count": 1,
   "id": "d703145d-5e12-4a7c-8e39-9ec0f600dc44",
   "metadata": {},
   "outputs": [],
   "source": [
    "# Template"
   ]
  },
  {
   "cell_type": "markdown",
   "id": "da32129d-8b98-4639-93c6-1846d517208d",
   "metadata": {
    "slideshow": {
     "slide_type": ""
    },
    "tags": []
   },
   "source": [
    "# 📓 Notebook Title\n",
    "> *Replace with the main topic or task this notebook is about*\n",
    "\n",
    "---\n",
    "\n",
    "## 📅 Date Created\n",
    "**YYYY-MM-DD**  <!-- e.g., 2025-04-23 -->\n",
    "\n",
    "## 🎯 Purpose\n",
    "*Clearly describe the purpose of this notebook. What are you trying to achieve or analyze?*\n",
    "\n",
    "---\n",
    "\n",
    "## 🧠 Context / Background\n",
    "*Short summary of the context, any relevant projects, links to documents, or source data you’re using.*\n",
    "\n",
    "---\n",
    "\n",
    "## 📦 Dependencies\n",
    "*List any libraries, packages, or custom functions needed.*\n",
    "\n",
    "- `numpy`\n",
    "- `pandas`\n",
    "- `matplotlib`\n",
    "- `xarray`  \n",
    "*(etc.)*\n",
    "\n",
    "---\n",
    "\n",
    "## 🧪 Experiments / Workflow Steps\n",
    "*Use this section to outline the main steps or structure of the notebook. You can fill in as you go:*\n",
    "\n",
    "1. Load data\n",
    "2. Clean / preprocess\n",
    "3. Exploratory analysis\n",
    "4. Modeling / processing\n",
    "5. Evaluation\n",
    "6. Results / output\n",
    "\n",
    "---\n",
    "\n",
    "## 🛠️ Updates & Changelog\n",
    "| Date       | Change Description                     |\n",
    "|------------|----------------------------------------|\n",
    "| YYYY-MM-DD | Initial version                        |\n",
    "| YYYY-MM-DD | Added X, refactored Y                  |\n",
    "| YYYY-MM-DD | Fixed bug with Z                       |\n",
    "\n",
    "---\n",
    "\n",
    "## 🔍 Observations / Notes\n",
    "*Use this section for thoughts, caveats, or insights as you work.*\n",
    "\n",
    "---\n",
    "\n",
    "## 🔁 To-Do / Next Steps\n",
    "- [ ] Check data quality on new source\n",
    "- [ ] Update plots with new labels\n",
    "- [ ] Optimize function for speed\n",
    "\n",
    "---\n",
    "\n",
    "## 🧾 References / Sources\n",
    "*Mention datasets, papers, links to documentation, etc.*\n",
    "\n",
    "- Dataset A: [link]\n",
    "- Method B: [link or citation]\n",
    "\n",
    "---\n",
    "\n",
    "## 🗃️ Archive / Legacy Notes\n",
    "*Optional section for notes that became outdated or were superseded by later updates. Keep for historical insight.*\n",
    "\n",
    "---\n",
    "\n"
   ]
  },
  {
   "cell_type": "code",
   "execution_count": null,
   "id": "84de4557-43da-4c24-8565-81100551e24f",
   "metadata": {},
   "outputs": [],
   "source": []
  },
  {
   "cell_type": "code",
   "execution_count": null,
   "id": "4fc9c20d-e7d3-42b5-9ae8-8df80a310d2e",
   "metadata": {},
   "outputs": [],
   "source": []
  },
  {
   "cell_type": "code",
   "execution_count": null,
   "id": "5058af8e-0821-440d-90af-063a87ed0110",
   "metadata": {},
   "outputs": [],
   "source": []
  },
  {
   "cell_type": "code",
   "execution_count": null,
   "id": "4f680a8d-b28a-480f-a3c0-73d2200821af",
   "metadata": {},
   "outputs": [],
   "source": []
  },
  {
   "cell_type": "code",
   "execution_count": null,
   "id": "5103d03c-9c63-48c9-8224-8e07948368d1",
   "metadata": {},
   "outputs": [],
   "source": []
  },
  {
   "cell_type": "code",
   "execution_count": null,
   "id": "73b970ed-6af7-4f6d-892e-42027c9fef72",
   "metadata": {},
   "outputs": [],
   "source": []
  },
  {
   "cell_type": "code",
   "execution_count": null,
   "id": "5958ac14-89d6-4d86-a401-475752b855f7",
   "metadata": {},
   "outputs": [],
   "source": []
  },
  {
   "cell_type": "code",
   "execution_count": null,
   "id": "2cd4cde0-7cd8-4e30-9814-869c9f7bd8fd",
   "metadata": {},
   "outputs": [],
   "source": []
  }
 ],
 "metadata": {
  "kernelspec": {
   "display_name": "geoscience",
   "language": "python",
   "name": "geoscience"
  },
  "language_info": {
   "codemirror_mode": {
    "name": "ipython",
    "version": 3
   },
   "file_extension": ".py",
   "mimetype": "text/x-python",
   "name": "python",
   "nbconvert_exporter": "python",
   "pygments_lexer": "ipython3",
   "version": "3.13.2"
  }
 },
 "nbformat": 4,
 "nbformat_minor": 5
}
